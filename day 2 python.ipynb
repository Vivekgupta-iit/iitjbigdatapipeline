{
 "cells": [
  {
   "cell_type": "code",
   "execution_count": null,
   "metadata": {},
   "outputs": [
    {
     "name": "stdout",
     "output_type": "stream",
     "text": [
      "VIVEK\n",
      "JUHI\n",
      "KUMAR\n"
     ]
    }
   ],
   "source": [
    "name = \"KUMAR\"\n",
    "Name = \"JUHI\"\n",
    "NAME = \"VIVEK\"\n",
    "print(NAME)\n",
    "print(Name)\n",
    "print(name)"
   ]
  },
  {
   "cell_type": "markdown",
   "metadata": {},
   "source": [
    "## Dyanamic datatype\n",
    "datatype is assigned automatically"
   ]
  },
  {
   "cell_type": "code",
   "execution_count": 5,
   "metadata": {},
   "outputs": [
    {
     "data": {
      "text/plain": [
       "str"
      ]
     },
     "execution_count": 5,
     "metadata": {},
     "output_type": "execute_result"
    }
   ],
   "source": [
    "a = \"Juhi\"\n",
    "type(a)"
   ]
  },
  {
   "cell_type": "code",
   "execution_count": null,
   "metadata": {},
   "outputs": [
    {
     "data": {
      "text/plain": [
       "bool"
      ]
     },
     "execution_count": 9,
     "metadata": {},
     "output_type": "execute_result"
    }
   ],
   "source": [
    "a = True\n",
    "type(a)"
   ]
  },
  {
   "cell_type": "code",
   "execution_count": null,
   "metadata": {},
   "outputs": [
    {
     "data": {
      "text/plain": [
       "['__add__',\n",
       " '__class__',\n",
       " '__contains__',\n",
       " '__delattr__',\n",
       " '__dir__',\n",
       " '__doc__',\n",
       " '__eq__',\n",
       " '__format__',\n",
       " '__ge__',\n",
       " '__getattribute__',\n",
       " '__getitem__',\n",
       " '__getnewargs__',\n",
       " '__gt__',\n",
       " '__hash__',\n",
       " '__init__',\n",
       " '__init_subclass__',\n",
       " '__iter__',\n",
       " '__le__',\n",
       " '__len__',\n",
       " '__lt__',\n",
       " '__mod__',\n",
       " '__mul__',\n",
       " '__ne__',\n",
       " '__new__',\n",
       " '__reduce__',\n",
       " '__reduce_ex__',\n",
       " '__repr__',\n",
       " '__rmod__',\n",
       " '__rmul__',\n",
       " '__setattr__',\n",
       " '__sizeof__',\n",
       " '__str__',\n",
       " '__subclasshook__',\n",
       " 'capitalize',\n",
       " 'casefold',\n",
       " 'center',\n",
       " 'count',\n",
       " 'encode',\n",
       " 'endswith',\n",
       " 'expandtabs',\n",
       " 'find',\n",
       " 'format',\n",
       " 'format_map',\n",
       " 'index',\n",
       " 'isalnum',\n",
       " 'isalpha',\n",
       " 'isascii',\n",
       " 'isdecimal',\n",
       " 'isdigit',\n",
       " 'isidentifier',\n",
       " 'islower',\n",
       " 'isnumeric',\n",
       " 'isprintable',\n",
       " 'isspace',\n",
       " 'istitle',\n",
       " 'isupper',\n",
       " 'join',\n",
       " 'ljust',\n",
       " 'lower',\n",
       " 'lstrip',\n",
       " 'maketrans',\n",
       " 'partition',\n",
       " 'removeprefix',\n",
       " 'removesuffix',\n",
       " 'replace',\n",
       " 'rfind',\n",
       " 'rindex',\n",
       " 'rjust',\n",
       " 'rpartition',\n",
       " 'rsplit',\n",
       " 'rstrip',\n",
       " 'split',\n",
       " 'splitlines',\n",
       " 'startswith',\n",
       " 'strip',\n",
       " 'swapcase',\n",
       " 'title',\n",
       " 'translate',\n",
       " 'upper',\n",
       " 'zfill']"
      ]
     },
     "execution_count": 15,
     "metadata": {},
     "output_type": "execute_result"
    }
   ],
   "source": [
    "a = \"Juhi\"\n",
    "#help(a)\n",
    "dir(a)"
   ]
  },
  {
   "cell_type": "code",
   "execution_count": null,
   "metadata": {},
   "outputs": [
    {
     "name": "stdout",
     "output_type": "stream",
     "text": [
      "juhi is bad     girl\n"
     ]
    }
   ],
   "source": [
    "#a = 30\n",
    "#b = \"\"\n",
    "#print(\"my no is\" + \" \" + a)\n",
    "value = 42\n",
    "print(f'juhi is bad     girl')"
   ]
  },
  {
   "cell_type": "markdown",
   "metadata": {},
   "source": [
    "##Type casting"
   ]
  },
  {
   "cell_type": "code",
   "execution_count": null,
   "metadata": {},
   "outputs": [
    {
     "data": {
      "text/plain": [
       "int"
      ]
     },
     "execution_count": 33,
     "metadata": {},
     "output_type": "execute_result"
    }
   ],
   "source": [
    "type(a)"
   ]
  },
  {
   "cell_type": "code",
   "execution_count": 34,
   "metadata": {},
   "outputs": [
    {
     "data": {
      "text/plain": [
       "str"
      ]
     },
     "execution_count": 34,
     "metadata": {},
     "output_type": "execute_result"
    }
   ],
   "source": [
    "a = 30\n",
    "b = str(a)\n",
    "type(b)"
   ]
  },
  {
   "cell_type": "code",
   "execution_count": null,
   "metadata": {},
   "outputs": [
    {
     "name": "stdout",
     "output_type": "stream",
     "text": [
      "40\n"
     ]
    }
   ],
   "source": [
    "a = 20\n",
    "b = str(a)\n",
    "print(a+int(b))"
   ]
  },
  {
   "cell_type": "code",
   "execution_count": 50,
   "metadata": {},
   "outputs": [
    {
     "name": "stdout",
     "output_type": "stream",
     "text": [
      "juhi \n",
      " kumar\n"
     ]
    }
   ],
   "source": [
    "print(\"juhi \\n kumar\")"
   ]
  },
  {
   "cell_type": "code",
   "execution_count": null,
   "metadata": {},
   "outputs": [],
   "source": [
    "a = 10\n",
    "del a"
   ]
  },
  {
   "cell_type": "code",
   "execution_count": 69,
   "metadata": {},
   "outputs": [
    {
     "name": "stdout",
     "output_type": "stream",
     "text": [
      "juhi is bad girl and her age is 31 onlyy\n"
     ]
    }
   ],
   "source": [
    "a = \"juhi\"\n",
    "b = \"kumar\"\n",
    "c = 31\n",
    "# juhi is bad girl and her age is 31\n",
    "#print( a +\" \" + \"is a bad girl and\"  + \" \" + str(c) + \" \" + \"is good  boy\")\n",
    "print(f'{a} is bad girl and her age is {c} onlyy')\n"
   ]
  },
  {
   "cell_type": "markdown",
   "metadata": {},
   "source": [
    "## ASCII VALUE"
   ]
  },
  {
   "cell_type": "code",
   "execution_count": null,
   "metadata": {},
   "outputs": [
    {
     "name": "stdout",
     "output_type": "stream",
     "text": [
      "A\n"
     ]
    }
   ],
   "source": [
    "##variable naming convensions\n",
    "ASC1='A'\n",
    "print(ASC1)"
   ]
  },
  {
   "cell_type": "code",
   "execution_count": 72,
   "metadata": {},
   "outputs": [
    {
     "data": {
      "text/plain": [
       "97"
      ]
     },
     "execution_count": 72,
     "metadata": {},
     "output_type": "execute_result"
    }
   ],
   "source": [
    "ord(\"a\")"
   ]
  },
  {
   "cell_type": "code",
   "execution_count": 94,
   "metadata": {},
   "outputs": [
    {
     "data": {
      "text/plain": [
       "'I'"
      ]
     },
     "execution_count": 94,
     "metadata": {},
     "output_type": "execute_result"
    }
   ],
   "source": [
    "#stri: array of charactor\n",
    "a = \"MOTESJUHI\"\n",
    "\n",
    "a[-1]\n"
   ]
  },
  {
   "cell_type": "code",
   "execution_count": null,
   "metadata": {},
   "outputs": [
    {
     "name": "stdout",
     "output_type": "stream",
     "text": [
      "Orange\n",
      "1\n",
      "3\n"
     ]
    }
   ],
   "source": [
    "x, y, z = \"Orange\", 1 ,3\n",
    "print(x)\n",
    "print(y)\n",
    "print(z)\n",
    "\n",
    "a =[2,2,2,3,4,5]"
   ]
  },
  {
   "cell_type": "markdown",
   "metadata": {},
   "source": [
    "# Lists \n",
    "#### Used to store multiple values in a single variable.\n",
    "#### Data type -> collections (list,touple,set,dictionary)\n",
    "#### indexing \n",
    "#### mutable (changable)\n",
    "#### allows dublicate\n",
    "#### a = [1,2,3,4,5,6] --square bracket\n",
    "\n"
   ]
  },
  {
   "cell_type": "code",
   "execution_count": null,
   "metadata": {},
   "outputs": [
    {
     "data": {
      "text/plain": [
       "4"
      ]
     },
     "execution_count": 141,
     "metadata": {},
     "output_type": "execute_result"
    }
   ],
   "source": [
    "a = [1,2,3,4,56,6]\n",
    "#a[5]\n",
    "#a[-1]\n",
    "#a[0:4] #a[start,end+1]\n",
    "\n",
    "a[-3]\n",
    "\n"
   ]
  },
  {
   "cell_type": "code",
   "execution_count": 144,
   "metadata": {},
   "outputs": [
    {
     "data": {
      "text/plain": [
       "1"
      ]
     },
     "execution_count": 144,
     "metadata": {},
     "output_type": "execute_result"
    }
   ],
   "source": [
    "a = [\"juhi\",\"Amit\",\"kumar\",1]\n",
    "a[3]"
   ]
  },
  {
   "cell_type": "code",
   "execution_count": null,
   "metadata": {},
   "outputs": [],
   "source": [
    "a = []\n",
    "##type(a)\n",
    "\n",
    "a = [2,3,4,5,6,7,8,9]\n",
    "b =[]\n",
    "c =[]\n",
    "if a%2==0\n",
    "b.append\n",
    "id a%2==1\n",
    "c.append\n",
    "\n"
   ]
  },
  {
   "cell_type": "code",
   "execution_count": 156,
   "metadata": {},
   "outputs": [
    {
     "data": {
      "text/plain": [
       "[2, 3, 4]"
      ]
     },
     "execution_count": 156,
     "metadata": {},
     "output_type": "execute_result"
    }
   ],
   "source": [
    "a = [\"juhi\",\"Amit\",\"kumar\",[1,2,3,4]]\n",
    "a[-1][1:]"
   ]
  },
  {
   "cell_type": "code",
   "execution_count": 158,
   "metadata": {},
   "outputs": [
    {
     "data": {
      "text/plain": [
       "['juhi Ahuja', 4, 3, 2]"
      ]
     },
     "execution_count": 158,
     "metadata": {},
     "output_type": "execute_result"
    }
   ],
   "source": [
    "a = [\"juhi\",4,3,2]\n",
    "a[0]=\"juhi Ahuja\"\n",
    "a"
   ]
  },
  {
   "cell_type": "code",
   "execution_count": 162,
   "metadata": {},
   "outputs": [
    {
     "data": {
      "text/plain": [
       "200"
      ]
     },
     "execution_count": 162,
     "metadata": {},
     "output_type": "execute_result"
    }
   ],
   "source": [
    "a=[]\n",
    "a.append(100)\n",
    "a.append(200)\n",
    "\n",
    "a[1]\n"
   ]
  },
  {
   "cell_type": "code",
   "execution_count": 186,
   "metadata": {},
   "outputs": [
    {
     "data": {
      "text/plain": [
       "[1, 2, 3, 3, 4, 5]"
      ]
     },
     "execution_count": 186,
     "metadata": {},
     "output_type": "execute_result"
    }
   ],
   "source": [
    "a =[1,2,3,4,3,5]\n",
    "##a.append(200)\n",
    "##a.pop(2)\n",
    "##a\n",
    "\n",
    "##del a[2:4]\n",
    "\n",
    "#max(a)\n",
    "#min(a)\n",
    "#sum(a)\n",
    "\n",
    "a.sort()\n",
    "a\n"
   ]
  },
  {
   "cell_type": "markdown",
   "metadata": {},
   "source": [
    "# TUPLE\n",
    "#### Sigle variable can store multiple value.\n",
    "#### indexing possible\n",
    "#### immutable (can not be changed)\n",
    "#### small ()\n",
    "#### duplicate allowed"
   ]
  },
  {
   "cell_type": "markdown",
   "metadata": {},
   "source": []
  },
  {
   "cell_type": "code",
   "execution_count": 208,
   "metadata": {},
   "outputs": [
    {
     "data": {
      "text/plain": [
       "3"
      ]
     },
     "execution_count": 208,
     "metadata": {},
     "output_type": "execute_result"
    }
   ],
   "source": [
    "a = (2,2,3,4)\n",
    "b = list(a)\n",
    "b[2]\n"
   ]
  },
  {
   "cell_type": "code",
   "execution_count": null,
   "metadata": {},
   "outputs": [
    {
     "data": {
      "text/plain": [
       "2"
      ]
     },
     "execution_count": 209,
     "metadata": {},
     "output_type": "execute_result"
    }
   ],
   "source": [
    "a = (\"vivek\",\"juhi\",\"kumar\")\n",
    "a.index(\"kumar\")\n",
    "\n",
    "\n"
   ]
  },
  {
   "cell_type": "code",
   "execution_count": null,
   "metadata": {},
   "outputs": [
    {
     "data": {
      "text/plain": [
       "2"
      ]
     },
     "execution_count": 214,
     "metadata": {},
     "output_type": "execute_result"
    }
   ],
   "source": [
    "a = (\"vivek\",\"juhi\",\"kumar\")\n",
    "b = (1,2,3,4)\n",
    "c = (a,b)\n",
    "c[1][1]\n"
   ]
  },
  {
   "cell_type": "markdown",
   "metadata": {},
   "source": [
    "# SET\n",
    "#### only unique  element.\n",
    "#### {} curly braces\n",
    "#### not indexed\n",
    "#### duplictate not allowed \n",
    "#### Mutable"
   ]
  },
  {
   "cell_type": "code",
   "execution_count": null,
   "metadata": {},
   "outputs": [
    {
     "ename": "TypeError",
     "evalue": "'set' object is not subscriptable",
     "output_type": "error",
     "traceback": [
      "\u001b[0;31m---------------------------------------------------------------------------\u001b[0m",
      "\u001b[0;31mTypeError\u001b[0m                                 Traceback (most recent call last)",
      "Cell \u001b[0;32mIn[81], line 5\u001b[0m\n\u001b[1;32m      2\u001b[0m b \u001b[38;5;241m=\u001b[39m{\u001b[38;5;241m2\u001b[39m,\u001b[38;5;241m3\u001b[39m,\u001b[38;5;241m4\u001b[39m,\u001b[38;5;241m5\u001b[39m,\u001b[38;5;241m6\u001b[39m}\n\u001b[1;32m      3\u001b[0m \u001b[38;5;66;03m#a.intersection(b)\u001b[39;00m\n\u001b[1;32m      4\u001b[0m \u001b[38;5;66;03m#b.difference(a)\u001b[39;00m\n\u001b[0;32m----> 5\u001b[0m \u001b[43ma\u001b[49m\u001b[43m[\u001b[49m\u001b[38;5;241;43m2\u001b[39;49m\u001b[43m]\u001b[49m\n",
      "\u001b[0;31mTypeError\u001b[0m: 'set' object is not subscriptable"
     ]
    }
   ],
   "source": [
    "a ={3,1,2,2,2,4,0}\n",
    "b ={2,3,4,5,6}\n",
    "#a.intersection(b)\n",
    "#b.difference(a)\n",
    "\n",
    "\n",
    "\n",
    "\n"
   ]
  },
  {
   "cell_type": "code",
   "execution_count": null,
   "metadata": {},
   "outputs": [
    {
     "data": {
      "text/plain": [
       "{2, 3, 4}"
      ]
     },
     "execution_count": 249,
     "metadata": {},
     "output_type": "execute_result"
    }
   ],
   "source": [
    "a = { 2,2,2,2,3,4}\n",
    "a"
   ]
  },
  {
   "cell_type": "markdown",
   "metadata": {},
   "source": [
    "# Dictionary \n",
    "#### key value pair\n",
    "#### keys are immutable and unique\n",
    "#### {}\n",
    "#### indexing is thr (key is index)"
   ]
  },
  {
   "cell_type": "code",
   "execution_count": 278,
   "metadata": {},
   "outputs": [
    {
     "data": {
      "text/plain": [
       "'vivek'"
      ]
     },
     "execution_count": 278,
     "metadata": {},
     "output_type": "execute_result"
    }
   ],
   "source": [
    "a = { 4:\"kumar\",2:\"vivek\",3:\"juhi\"}\n",
    "a[2]\n",
    "#a.get(2)\n",
    "#type(a)\n"
   ]
  },
  {
   "cell_type": "code",
   "execution_count": null,
   "metadata": {},
   "outputs": [
    {
     "data": {
      "text/plain": [
       "'19'"
      ]
     },
     "execution_count": 277,
     "metadata": {},
     "output_type": "execute_result"
    }
   ],
   "source": [
    "roll_no = [1,2,3]\n",
    "roll_no1 = [(\"juhi\",\"23\"),(\"vivek\",\"19\"),(\"KUMAR\",\"26\")]\n",
    "c = dict(zip(roll_no, roll_no1))\n",
    "c[2][1]\n",
    "\n"
   ]
  },
  {
   "cell_type": "code",
   "execution_count": null,
   "metadata": {},
   "outputs": [
    {
     "data": {
      "text/plain": [
       "'MOHINI THEATOR'"
      ]
     },
     "execution_count": 281,
     "metadata": {},
     "output_type": "execute_result"
    }
   ],
   "source": [
    "city ={\"high court\" : 9056135378, \"mall\" : [\"PVR\",\"INOX\",\"MOHINI THEATOR\"], \n",
    "    \"restaurents\" : {\"chinese\" : \"chowmine\" , \"indian\":[\"aalupartha\",[\"mater paneer\",\"sahi panner\"],\"dal_chawal\"]}}\n",
    "\n",
    "#city[\"restaurents\"][\"indian\"][1][1]\n",
    "#city [\"mall\"][2]\n",
    "\n",
    "\n"
   ]
  },
  {
   "cell_type": "markdown",
   "metadata": {},
   "source": [
    "## Conditional Statement using IF else ##\n"
   ]
  },
  {
   "cell_type": "code",
   "execution_count": 1,
   "metadata": {},
   "outputs": [
    {
     "name": "stdout",
     "output_type": "stream",
     "text": [
      "a is less than b\n",
      "hello brother\n"
     ]
    }
   ],
   "source": [
    "a = 5\n",
    "b = 40\n",
    "if a<b:\n",
    "    print(\"a is less than b\")\n",
    "else:\n",
    "    print(\"a is gretor than b\")\n",
    "print(\"hello brother\")\n"
   ]
  },
  {
   "cell_type": "code",
   "execution_count": 2,
   "metadata": {},
   "outputs": [
    {
     "name": "stdout",
     "output_type": "stream",
     "text": [
      "a is not equal to b\n",
      "a is gretor to b\n",
      "hello brother\n"
     ]
    }
   ],
   "source": [
    "a = 50\n",
    "b = 40\n",
    "if a<b:\n",
    "    print(\"a is less than b\")\n",
    "if a != b:\n",
    "    print(\"a is not equal to b\")\n",
    "if a>b:\n",
    "    print(\"a is gretor to b\")\n",
    "print(\"hello brother\")"
   ]
  },
  {
   "cell_type": "code",
   "execution_count": null,
   "metadata": {},
   "outputs": [
    {
     "name": "stdout",
     "output_type": "stream",
     "text": [
      "a is not equal to b\n",
      "hello brother\n"
     ]
    }
   ],
   "source": [
    "a = 10\n",
    "b = 4\n",
    "if a<b:\n",
    "    print(\"a is less than b\")\n",
    "elif a != b:\n",
    "    print(\"a is not equal to b\")\n",
    "elif a>b:\n",
    "    print(\"a is gretor to b\")\n",
    "else:\n",
    "    print(\"a is equal to b\")\n",
    "print(\"hello brother\")"
   ]
  },
  {
   "cell_type": "markdown",
   "metadata": {},
   "source": [
    "# NESTED IF (if under if)"
   ]
  },
  {
   "cell_type": "code",
   "execution_count": 13,
   "metadata": {},
   "outputs": [
    {
     "name": "stdout",
     "output_type": "stream",
     "text": [
      "non cse/it branch\n",
      "thanks motes\n"
     ]
    }
   ],
   "source": [
    "a = 'DU'\n",
    "deptcode = 4\n",
    "\n",
    "if a == 'CU':\n",
    "    if(deptcode == 1):\n",
    "        print(\"CSE department\")\n",
    "    elif(deptcode == 2):\n",
    "         print(\"IT department\")\n",
    "    else:\n",
    "        print(\"CU have non cse/it branch for this dept code\")\n",
    "if a == 'GU':\n",
    "    if(deptcode == 5):\n",
    "        print(\"GU has CSE department for this dept code\")\n",
    "    elif(deptcode == 6):\n",
    "         print(\"IT department\")\n",
    "    else:\n",
    "        print(\"non cse/it branch\")\n",
    "if a == 'DU':\n",
    "    if(deptcode == 5):\n",
    "        print(\"DU has IT department for this dept code\")\n",
    "    elif(deptcode == 6):\n",
    "         print(\"CSE department\")\n",
    "    else:\n",
    "        print(\"non cse/it branch\")\n",
    "print(\"thanks motes\")\n",
    "\n",
    "\n"
   ]
  },
  {
   "cell_type": "markdown",
   "metadata": {},
   "source": [
    "                                    UNIVERSITY\n",
    "                                CU             GU         DU\n",
    "                            1:ME               1:ME\n",
    "                            2:CSE              5:CSE\n",
    "                            3:IT               3:CIVIL\n",
    "                            4:CIVIL            4:IT\n",
    "\n",
    "                            user input : dept 5\n",
    "                            "
   ]
  },
  {
   "cell_type": "code",
   "execution_count": null,
   "metadata": {},
   "outputs": [
    {
     "name": "stdout",
     "output_type": "stream",
     "text": [
      "wrong statement\n",
      "hello brother\n"
     ]
    }
   ],
   "source": [
    "a = 4\n",
    "b = 0\n",
    "if a == 4:\n",
    "    print(\"wrong statement\")\n",
    "elif a > 0:\n",
    "    if(a==b):\n",
    "        print(\" a is equal to b\")\n",
    "    else:\n",
    "        print(\"hello brother\")\n",
    "print(\"hello brother\")\n"
   ]
  },
  {
   "cell_type": "code",
   "execution_count": null,
   "metadata": {},
   "outputs": [
    {
     "name": "stdout",
     "output_type": "stream",
     "text": [
      "wrong statement\n"
     ]
    }
   ],
   "source": [
    "a = 4\n",
    "b = 4\n",
    "print(\"wrong statement\") if a == 4 else print(\" a is equal to b\") if (a == b) else print(\"hello brother\")"
   ]
  },
  {
   "cell_type": "markdown",
   "metadata": {},
   "source": [
    "## Loops\n",
    "### seq of statment runs till the condition is reached.\n",
    "### for loop \n",
    "### while loop\n",
    "\n"
   ]
  },
  {
   "cell_type": "code",
   "execution_count": 34,
   "metadata": {},
   "outputs": [
    {
     "name": "stdout",
     "output_type": "stream",
     "text": [
      "5\n",
      "6\n",
      "7\n",
      "8\n",
      "9\n",
      "10\n"
     ]
    }
   ],
   "source": [
    "a = range(5,11)\n",
    "for indicator in a:\n",
    "    print(indicator)"
   ]
  },
  {
   "cell_type": "code",
   "execution_count": null,
   "metadata": {},
   "outputs": [
    {
     "name": "stdout",
     "output_type": "stream",
     "text": [
      "2\n",
      "2\n",
      "2\n",
      "2\n",
      "2\n"
     ]
    }
   ],
   "source": [
    "a = [1,2,3,4,5]  a[0]\n",
    "for i in a: \n",
    "    print(a[i])\n",
    "\n",
    "iteration range : \n",
    "1\n",
    "2\n",
    "3\n",
    "4\n",
    "5\n",
    "\n",
    "\n",
    "iteration1 i=1\n",
    "for i in a: \n",
    "    print(a[i])\n",
    "\n",
    "    print(a[1]) ==2\n",
    "    a=[1,2,3,4,5]\n",
    "\n",
    "iteration2 i=2\n",
    "for i in a: \n",
    "    print(a[i])\n",
    "\n",
    "     print(a[2]) ==3\n",
    "    a=[1,2,3,4,5]\n",
    "\n",
    "iteration3 i=3\n",
    "for i in a: \n",
    "    print(a[i])\n",
    "     print(a[3]) ==4\n",
    "    a=[1,2,3,4,5]\n",
    "\n",
    "iteration3 i=4\n",
    "for i in a: \n",
    "    print(a[i])\n",
    "     print(a[4]) ==5\n",
    "\n",
    "    a=[1,2,3,4,5]\n",
    "\n",
    "\n",
    "iteration3 i=5\n",
    "for i in a: \n",
    "    print(a[i])\n",
    "\n",
    "     print(a[5]) == break\n",
    "    a=[1,2,3,4,5]\n",
    "\n",
    "\n"
   ]
  },
  {
   "cell_type": "code",
   "execution_count": null,
   "metadata": {},
   "outputs": [
    {
     "name": "stdout",
     "output_type": "stream",
     "text": [
      "1\n",
      "2\n",
      "3\n",
      "4\n",
      "5\n"
     ]
    }
   ],
   "source": [
    "a = [1,2,3,4,5]\n",
    "for i in a: \n",
    "    print(a[i-1])\n",
    "\n",
    "    i = 1\n",
    "    print(a[1-1]), a[0]= 1\n",
    "\n",
    "    i = 2\n",
    "    print(a[2-1]), a[1]= 2\n",
    "\n",
    "    i = 3\n",
    "    print(a[3-1]), a[2]= 3\n",
    "\n",
    "    i = 4\n",
    "    print(a[4-1]), a[3]= 4\n",
    "\n",
    "    i = 5\n",
    "    print(a[5-1]), a[4]= 5\n",
    "\n",
    "    i = 6 === loop break\n",
    " \n"
   ]
  },
  {
   "cell_type": "code",
   "execution_count": null,
   "metadata": {},
   "outputs": [
    {
     "name": "stdout",
     "output_type": "stream",
     "text": [
      "J\n",
      "U\n",
      "H\n",
      "I\n"
     ]
    }
   ],
   "source": [
    "a = \"JUHI\"\n",
    "for i in a: \n",
    "    print(a)\n",
    "\n",
    "iteration 1 \n",
    " i = J \n",
    "print = juhi\n",
    "\n",
    "i = U \n",
    "juhi\n",
    "\n",
    "i= h \n",
    "juhi    \n",
    "\n",
    "i = i \n",
    "JUHI\n"
   ]
  },
  {
   "cell_type": "code",
   "execution_count": 69,
   "metadata": {},
   "outputs": [
    {
     "name": "stdout",
     "output_type": "stream",
     "text": [
      "j\n",
      "juhi\n",
      "u\n",
      "juhi\n",
      "h\n",
      "juhi\n",
      "i\n",
      "juhi\n"
     ]
    }
   ],
   "source": [
    "a = \"juhi\"\n",
    "for i in a:\n",
    "    print(i)\n",
    "    print(a)\n"
   ]
  },
  {
   "cell_type": "code",
   "execution_count": null,
   "metadata": {},
   "outputs": [
    {
     "name": "stdout",
     "output_type": "stream",
     "text": [
      "[1, 2, 3, 4, 5]\n",
      "1\n",
      "3\n",
      "5\n",
      "[1, 2, 3, 4, 5]\n",
      "2\n",
      "3\n",
      "5\n",
      "[1, 2, 3, 4, 5]\n",
      "3\n",
      "3\n",
      "5\n",
      "[1, 2, 3, 4, 5]\n",
      "4\n",
      "3\n",
      "5\n",
      "[1, 2, 3, 4, 5]\n",
      "5\n",
      "3\n",
      "5\n"
     ]
    }
   ],
   "source": [
    "a = [1,2,3,4,5]\n",
    "for i in a: \n",
    "    print(a) [1,2,3,4,5]\n",
    "    print(i)  1\n",
    "    print(a[2]) 3\n",
    "    print(a[-1]) 5\n",
    "    print(a[i-1]) a[0] =1\n",
    "    print(a[i])  a[1] = 2\n",
    "\n",
    "  print(a) [1,2,3,4,5]\n",
    "    print(i)  2\n",
    "    print(a[2]) 3\n",
    "    print(a[-1]) 5\n",
    "    print(a[i-1]) a[1] =2\n",
    "    print(a[i])  1[2] = 3\n",
    "\n",
    "\n",
    " print(a[3])  1[2] = 4\n",
    " print(a[4])  1[2] = 5\n",
    " print(a[5])  1[2] = 3"
   ]
  },
  {
   "cell_type": "code",
   "execution_count": null,
   "metadata": {},
   "outputs": [
    {
     "name": "stdout",
     "output_type": "stream",
     "text": [
      "(1, 2, 3, 4, 5)\n",
      "1\n",
      "3\n",
      "5\n",
      "1\n",
      "(1, 2, 3, 4, 5)\n",
      "2\n",
      "3\n",
      "5\n",
      "2\n",
      "(1, 2, 3, 4, 5)\n",
      "3\n",
      "3\n",
      "5\n",
      "3\n",
      "(1, 2, 3, 4, 5)\n",
      "4\n",
      "3\n",
      "5\n",
      "4\n",
      "(1, 2, 3, 4, 5)\n",
      "5\n",
      "3\n",
      "5\n",
      "5\n"
     ]
    }
   ],
   "source": [
    "a = [1,2,3,4,5]\n",
    "for i in a: \n",
    "    print(a)\n",
    "    print(i) \n",
    "    print(a[2])\n",
    "    print(a[-1])\n",
    "    print(a[i-1])"
   ]
  },
  {
   "cell_type": "code",
   "execution_count": null,
   "metadata": {},
   "outputs": [
    {
     "name": "stdout",
     "output_type": "stream",
     "text": [
      "kumar\n",
      "dict_values(['kumar', 'juhi', 'vivek'])\n",
      "juhi\n",
      "dict_values(['kumar', 'juhi', 'vivek'])\n",
      "vivek\n",
      "dict_values(['kumar', 'juhi', 'vivek'])\n"
     ]
    }
   ],
   "source": [
    "a = {4: \"kumar\", 2: \"juhi\" , 3: \"vivek\"}\n",
    "for i in a.values():\n",
    "    print(i)\n",
    "    print(a.values())\n",
    "    print(a[i])\n",
    "\n",
    "   \n",
    "   \n",
    "\n"
   ]
  },
  {
   "cell_type": "code",
   "execution_count": null,
   "metadata": {},
   "outputs": [],
   "source": [
    "    a=[1,2,4,5]\n",
    "    a[3]== 4th object ,0,1,2,3\n",
    "    a = {4: \"kumar\", 2: \"juhi\" , 3: \"vivek\"}\n",
    "    a[3]== key ki value\n",
    "\n"
   ]
  },
  {
   "cell_type": "code",
   "execution_count": null,
   "metadata": {},
   "outputs": [
    {
     "name": "stdout",
     "output_type": "stream",
     "text": [
      "2\n",
      "[1, 2, 4, 5]\n",
      "4\n",
      "[1, 2, 4, 5]\n"
     ]
    },
    {
     "ename": "IndexError",
     "evalue": "list index out of range",
     "output_type": "error",
     "traceback": [
      "\u001b[0;31m---------------------------------------------------------------------------\u001b[0m",
      "\u001b[0;31mIndexError\u001b[0m                                Traceback (most recent call last)",
      "Cell \u001b[0;32mIn[96], line 3\u001b[0m\n\u001b[1;32m      1\u001b[0m a\u001b[38;5;241m=\u001b[39m[\u001b[38;5;241m1\u001b[39m,\u001b[38;5;241m2\u001b[39m,\u001b[38;5;241m4\u001b[39m,\u001b[38;5;241m5\u001b[39m]\n\u001b[1;32m      2\u001b[0m \u001b[38;5;28;01mfor\u001b[39;00m i \u001b[38;5;129;01min\u001b[39;00m a:\n\u001b[0;32m----> 3\u001b[0m     \u001b[38;5;28mprint\u001b[39m(\u001b[43ma\u001b[49m\u001b[43m[\u001b[49m\u001b[43mi\u001b[49m\u001b[43m]\u001b[49m)\n\u001b[1;32m      4\u001b[0m     \u001b[38;5;28mprint\u001b[39m(a)\n",
      "\u001b[0;31mIndexError\u001b[0m: list index out of range"
     ]
    }
   ],
   "source": [
    "a=[1,2,4,5]\n",
    "for i in a:\n",
    "    print(a[i])\n",
    "   \n",
    "\n",
    "  \n",
    "\n",
    " \n",
    " \n"
   ]
  },
  {
   "cell_type": "code",
   "execution_count": null,
   "metadata": {},
   "outputs": [
    {
     "name": "stdout",
     "output_type": "stream",
     "text": [
      "Hi Motes\n",
      "Hi Motes\n",
      "Hi Motes\n",
      "Hi Motes\n",
      "Hi Motes\n",
      "Hi Motes\n",
      "Hi Motes\n",
      "Hi Motes\n",
      "Hi Motes\n"
     ]
    }
   ],
   "source": [
    "i = 1\n",
    "while i < 5:\n",
    "    print(\"Hi Motes\")\n",
    "    i = i + 1\n",
    "\n",
    "iteration:\n",
    " i =1 \n",
    " True  1<5\n",
    " Hi Motes\n",
    " i = 1+1 ==2\n",
    "\n",
    "iteration 2\n",
    " i =2\n",
    "2<5 True\n",
    "Hi Motes\n",
    "i = 2+1 ==3\n",
    "\n",
    "iteration 3\n",
    " i =3\n",
    "3<5 True\n",
    "Hi Motes\n",
    "i = 3+1 ==4\n",
    "\n",
    "iteration 4\n",
    " i =4\n",
    "4<5 True\n",
    "Hi Motes\n",
    "i = 4+1 ==5\n",
    "\n",
    "iteration 5\n",
    " i =5\n",
    "5<5 FALSE\n",
    "\n",
    "\n",
    "\n",
    "\n",
    "\n",
    "\n",
    "\n",
    "\n",
    "\n"
   ]
  },
  {
   "cell_type": "code",
   "execution_count": null,
   "metadata": {},
   "outputs": [],
   "source": [
    "i = 1\n",
    "while i < 5:\n",
    "    print(\"Hi Motes\")\n",
    "    i = i - 2\n",
    "    print(\"bye bye\")\n",
    "\n",
    "1\n",
    "1<5 True\n",
    "hi motes\n",
    "i = 1-2 > -1\n",
    "bye bye \n",
    "\n",
    "\n",
    "-1\n",
    "-1<5 True\n",
    "hi motes\n",
    "i = -1-2 > -3\n",
    "bye bye \n",
    "\n",
    "-3\n",
    "-3<5 True\n",
    "hi motes\n",
    "i = -3-2 > -5\n",
    "bye bye \n",
    "\n",
    "-5\n",
    "-5<5 True\n",
    "hi motes\n",
    "i = -5-2 > -7\n",
    "bye bye \n",
    "\n"
   ]
  },
  {
   "cell_type": "code",
   "execution_count": 8,
   "metadata": {},
   "outputs": [
    {
     "ename": "SyntaxError",
     "evalue": "invalid syntax (3596651248.py, line 10)",
     "output_type": "error",
     "traceback": [
      "\u001b[0;36m  Cell \u001b[0;32mIn[8], line 10\u001b[0;36m\u001b[0m\n\u001b[0;31m    10> 5 True\u001b[0m\n\u001b[0m          ^\u001b[0m\n\u001b[0;31mSyntaxError\u001b[0m\u001b[0;31m:\u001b[0m invalid syntax\n"
     ]
    }
   ],
   "source": [
    "i = 10\n",
    "while i > 5:\n",
    "    print(\"Hi Motes\")\n",
    "    print(i)\n",
    "    i = i - 2\n",
    "    #print(i)\n",
    "    print(\"bye bye\")\n",
    "\n",
    "i =10\n",
    "10> 5 True\n",
    "Hi Motes\n",
    "i=10-2\n",
    "8\n",
    "bye bye\n",
    "\n",
    "i =8\n",
    "8 > 5 True\n",
    "Hi Motes\n",
    "i=8-2\n",
    "6\n",
    "bye bye\n",
    "\n",
    "i = 6\n",
    "6 > 5 True\n",
    "Hi Motes\n",
    "i=6-2\n",
    "4\n",
    "bye bye\n",
    "\n",
    "i = 4\n",
    "4 > 5 false\n",
    "\n",
    "\n",
    "\n",
    "\n",
    "\n"
   ]
  },
  {
   "cell_type": "code",
   "execution_count": 12,
   "metadata": {},
   "outputs": [
    {
     "name": "stdout",
     "output_type": "stream",
     "text": [
      "10\n",
      "Hi Motes\n",
      "64\n",
      "bye bye\n",
      "8\n",
      "Hi Motes\n",
      "36\n",
      "bye bye\n",
      "6\n",
      "Hi Motes\n",
      "16\n",
      "bye bye\n"
     ]
    }
   ],
   "source": [
    "i = 10\n",
    "while i > 5:\n",
    "    print(i)\n",
    "    print(\"Hi Motes\")\n",
    "    i = i - 2\n",
    "    print(i ** 2)\n",
    "    print(\"bye bye\")\n"
   ]
  },
  {
   "cell_type": "code",
   "execution_count": null,
   "metadata": {},
   "outputs": [],
   "source": [
    "*\n",
    "**\n",
    "***\n",
    "****\n",
    "*****"
   ]
  },
  {
   "cell_type": "code",
   "execution_count": 3,
   "metadata": {},
   "outputs": [
    {
     "name": "stdout",
     "output_type": "stream",
     "text": [
      "*\n",
      "**\n",
      "***\n",
      "****\n",
      "*****\n"
     ]
    }
   ],
   "source": [
    "for i in range(1,6):\n",
    "    print(i * \"*\")"
   ]
  },
  {
   "cell_type": "code",
   "execution_count": null,
   "metadata": {},
   "outputs": [],
   "source": []
  },
  {
   "cell_type": "code",
   "execution_count": 9,
   "metadata": {},
   "outputs": [
    {
     "name": "stdout",
     "output_type": "stream",
     "text": [
      "*****\n",
      "****\n",
      "***\n",
      "**\n",
      "*\n"
     ]
    }
   ],
   "source": [
    "for i in range(5,0, -1):\n",
    "    print(i * \"*\")"
   ]
  },
  {
   "cell_type": "code",
   "execution_count": 34,
   "metadata": {},
   "outputs": [
    {
     "name": "stdout",
     "output_type": "stream",
     "text": [
      "    *    \n",
      "   ***   \n",
      "  *****  \n",
      " ******* \n",
      "*********\n"
     ]
    }
   ],
   "source": [
    "for i in range(1,6):\n",
    "    print(\" \" * (5-i) + \"*\" * (2*i -1)+ \" \" * (5-i) )\n",
    "\n",
    "  \n",
    "    \n"
   ]
  },
  {
   "cell_type": "code",
   "execution_count": 17,
   "metadata": {},
   "outputs": [
    {
     "name": "stdout",
     "output_type": "stream",
     "text": [
      "**** ****\n",
      "***   ***\n",
      "**     **\n",
      "*       *\n",
      "         \n"
     ]
    }
   ],
   "source": [
    "for i in range(1,6):\n",
    "    print(\"*\" * (5-i) + \" \" * (2*i -1)+ \"*\" * (5-i) )"
   ]
  },
  {
   "cell_type": "code",
   "execution_count": 31,
   "metadata": {},
   "outputs": [
    {
     "name": "stdout",
     "output_type": "stream",
     "text": [
      "**** ****\n",
      "***   ***\n",
      "**     **\n",
      "*       *\n",
      "*       *\n",
      "**     **\n",
      "***   ***\n",
      "**** ****\n"
     ]
    }
   ],
   "source": [
    "\n",
    "for i in range(1,5):\n",
    "    print(\"*\" * (5-i) + \" \" * (2*i -1)+ \"*\" * (5-i) )\n",
    "for i in range(4,0, -1):\n",
    "    print(\"*\" * (5-i) + \" \" * (2*i -1)+ \"*\" * (5-i) )"
   ]
  },
  {
   "cell_type": "code",
   "execution_count": 33,
   "metadata": {},
   "outputs": [
    {
     "name": "stdout",
     "output_type": "stream",
     "text": [
      "    *\n",
      "   ***\n",
      "  *****\n",
      " *******\n",
      "*********\n",
      " *******\n",
      "  *****\n",
      "   ***\n",
      "    *\n"
     ]
    }
   ],
   "source": [
    "for i in range(1,5):\n",
    "    print(\" \" * (5-i) + \"*\" * (2*i -1) )\n",
    "for i in range(5,0, -1):\n",
    "    print(\" \" * (5-i) + \"*\" * (2*i -1) )"
   ]
  },
  {
   "cell_type": "code",
   "execution_count": 65,
   "metadata": {},
   "outputs": [
    {
     "name": "stdout",
     "output_type": "stream",
     "text": [
      "i\n",
      "h\n",
      "u\n",
      "j\n"
     ]
    }
   ],
   "source": [
    "a = ['j','u','h','i']\n",
    "for i in range((len(a)-1),-1,-1):\n",
    "    print(a[i])"
   ]
  },
  {
   "cell_type": "code",
   "execution_count": 69,
   "metadata": {},
   "outputs": [
    {
     "name": "stdout",
     "output_type": "stream",
     "text": [
      "e\n",
      "i\n",
      "h\n",
      "u\n",
      "j\n"
     ]
    }
   ],
   "source": [
    "a = ['j','u','h','i','e']\n",
    "for i in range((len(a)-1),-1,-1):\n",
    "    print(a[i])"
   ]
  },
  {
   "cell_type": "code",
   "execution_count": 106,
   "metadata": {},
   "outputs": [
    {
     "name": "stdout",
     "output_type": "stream",
     "text": [
      "u\n",
      "i\n",
      "i\n",
      "16\n"
     ]
    }
   ],
   "source": [
    "a = 'juhii'\n",
    "for i in a:\n",
    "    if i in('a','e','i','o','u'):\n",
    "        print(i)        \n",
    "print(count)\n"
   ]
  },
  {
   "cell_type": "markdown",
   "metadata": {},
   "source": [
    "#Function: set of statement combine to perfor some task/action. it should return some value.\n",
    "parameter can be passed.\n",
    "\n"
   ]
  },
  {
   "cell_type": "code",
   "execution_count": 1,
   "metadata": {},
   "outputs": [
    {
     "name": "stdout",
     "output_type": "stream",
     "text": [
      "8\n"
     ]
    }
   ],
   "source": [
    "a = 3\n",
    "b = 5\n",
    "c = a + b\n",
    "print(c)"
   ]
  },
  {
   "cell_type": "code",
   "execution_count": 6,
   "metadata": {},
   "outputs": [],
   "source": [
    "def sum_2_nos(a,b):\n",
    "    return (a + b)\n",
    "def sum_3_nos(a,b,c):\n",
    "    return (a + b + c)"
   ]
  },
  {
   "cell_type": "code",
   "execution_count": 7,
   "metadata": {},
   "outputs": [
    {
     "data": {
      "text/plain": [
       "10"
      ]
     },
     "execution_count": 7,
     "metadata": {},
     "output_type": "execute_result"
    }
   ],
   "source": [
    "sum_3_nos(1,4,5)"
   ]
  },
  {
   "cell_type": "code",
   "execution_count": 5,
   "metadata": {},
   "outputs": [
    {
     "data": {
      "text/plain": [
       "11"
      ]
     },
     "execution_count": 5,
     "metadata": {},
     "output_type": "execute_result"
    }
   ],
   "source": [
    "sum_2_nos(5,6)"
   ]
  },
  {
   "cell_type": "code",
   "execution_count": null,
   "metadata": {},
   "outputs": [],
   "source": [
    "for i in range(1,6):\n",
    "    print(i * \"*\")"
   ]
  },
  {
   "cell_type": "code",
   "execution_count": 12,
   "metadata": {},
   "outputs": [],
   "source": [
    "def pattern_print(n):\n",
    "    for i in range(1,n+1):\n",
    "        print(i * \"*\")\n",
    "\n",
    "    "
   ]
  },
  {
   "cell_type": "code",
   "execution_count": 17,
   "metadata": {},
   "outputs": [
    {
     "ename": "ModuleNotFoundError",
     "evalue": "No module named 'newone'",
     "output_type": "error",
     "traceback": [
      "\u001b[0;31m---------------------------------------------------------------------------\u001b[0m",
      "\u001b[0;31mModuleNotFoundError\u001b[0m                       Traceback (most recent call last)",
      "Cell \u001b[0;32mIn[17], line 1\u001b[0m\n\u001b[0;32m----> 1\u001b[0m \u001b[38;5;28;01mimport\u001b[39;00m \u001b[38;5;21;01mnewone\u001b[39;00m\u001b[38;5;21;01m.\u001b[39;00m\u001b[38;5;21;01mpy\u001b[39;00m\n\u001b[1;32m      2\u001b[0m pattern_print(\u001b[38;5;241m5\u001b[39m)\n",
      "\u001b[0;31mModuleNotFoundError\u001b[0m: No module named 'newone'"
     ]
    }
   ],
   "source": [
    "import newone.py\n",
    "pattern_print(5)"
   ]
  },
  {
   "cell_type": "code",
   "execution_count": 14,
   "metadata": {},
   "outputs": [
    {
     "name": "stdout",
     "output_type": "stream",
     "text": [
      "*\n",
      "**\n",
      "***\n",
      "****\n",
      "*****\n",
      "******\n",
      "*******\n"
     ]
    }
   ],
   "source": [
    "pattern_print(7)"
   ]
  },
  {
   "cell_type": "code",
   "execution_count": null,
   "metadata": {},
   "outputs": [],
   "source": []
  },
  {
   "cell_type": "code",
   "execution_count": 16,
   "metadata": {},
   "outputs": [
    {
     "name": "stdout",
     "output_type": "stream",
     "text": [
      "['h', 'i', 'j', 'u']\n"
     ]
    }
   ],
   "source": [
    "a = ['j','u','h','i']\n",
    "a.sort()\n",
    "print(a)\n"
   ]
  },
  {
   "cell_type": "code",
   "execution_count": 18,
   "metadata": {},
   "outputs": [
    {
     "name": "stdout",
     "output_type": "stream",
     "text": [
      "*\n",
      "**\n",
      "***\n",
      "****\n"
     ]
    }
   ],
   "source": [
    "pattern_print(4)"
   ]
  },
  {
   "cell_type": "code",
   "execution_count": 19,
   "metadata": {},
   "outputs": [
    {
     "name": "stdout",
     "output_type": "stream",
     "text": [
      "*\n",
      "**\n",
      "***\n",
      "****\n",
      "*****\n",
      "******\n"
     ]
    }
   ],
   "source": [
    "pattern_print(6)"
   ]
  },
  {
   "cell_type": "code",
   "execution_count": null,
   "metadata": {},
   "outputs": [],
   "source": [
    "def pattern_print():\n",
    "    for i in range(1,5+1):\n",
    "        print(i * \"*\")"
   ]
  },
  {
   "cell_type": "code",
   "execution_count": 24,
   "metadata": {},
   "outputs": [
    {
     "name": "stdout",
     "output_type": "stream",
     "text": [
      "*\n",
      "**\n",
      "***\n",
      "****\n",
      "*****\n"
     ]
    }
   ],
   "source": [
    "pattern_print()"
   ]
  },
  {
   "cell_type": "code",
   "execution_count": 48,
   "metadata": {},
   "outputs": [],
   "source": [
    "def credentials(name, age='NOT APPLICABLE' , loc='NOT APPLICABLE'):\n",
    "    print(name)\n",
    "    print(age)\n",
    "    print(loc)"
   ]
  },
  {
   "cell_type": "code",
   "execution_count": 49,
   "metadata": {},
   "outputs": [
    {
     "name": "stdout",
     "output_type": "stream",
     "text": [
      "vivek\n",
      "13\n",
      "DELHI\n"
     ]
    }
   ],
   "source": [
    "credentials(name ='vivek' , age ='13',loc='DELHI')"
   ]
  },
  {
   "cell_type": "code",
   "execution_count": 50,
   "metadata": {},
   "outputs": [
    {
     "name": "stdout",
     "output_type": "stream",
     "text": [
      "vivek\n",
      "13\n",
      "NOT APPLICABLE\n"
     ]
    }
   ],
   "source": [
    "credentials(name ='vivek' , age ='13')"
   ]
  },
  {
   "cell_type": "code",
   "execution_count": 51,
   "metadata": {},
   "outputs": [
    {
     "name": "stdout",
     "output_type": "stream",
     "text": [
      "vivek\n",
      "NOT APPLICABLE\n",
      "NOT APPLICABLE\n"
     ]
    }
   ],
   "source": [
    "credentials(name ='vivek')"
   ]
  },
  {
   "cell_type": "code",
   "execution_count": 36,
   "metadata": {},
   "outputs": [],
   "source": [
    "def pattern_print(n):\n",
    "    for i in range(1,n+1):\n",
    "        print(i * \"*\")\n"
   ]
  },
  {
   "cell_type": "code",
   "execution_count": 37,
   "metadata": {},
   "outputs": [
    {
     "name": "stdout",
     "output_type": "stream",
     "text": [
      "*\n",
      "**\n",
      "***\n"
     ]
    }
   ],
   "source": [
    "pattern_print(n=3)"
   ]
  },
  {
   "cell_type": "code",
   "execution_count": 69,
   "metadata": {},
   "outputs": [],
   "source": [
    "def even_check(a):\n",
    "    empty_list = []\n",
    "    odd_list =[]\n",
    "    for i in a:\n",
    "        if i % 2 == 0:\n",
    "            empty_list.append(i)\n",
    "        else:\n",
    "            odd_list.append(i)\n",
    "    return empty_list , odd_list\n",
    "\n",
    "\n",
    "\n"
   ]
  },
  {
   "cell_type": "code",
   "execution_count": 83,
   "metadata": {},
   "outputs": [],
   "source": [
    "def vowel_cons(a):\n",
    "    vowel = []\n",
    "    consonent =[]\n",
    "    for i in a:\n",
    "            if i in ('a','e','i','o','u'):\n",
    "                   vowel.append(i)\n",
    "            else:\n",
    "                  consonent.append(i)\n",
    "                  \n",
    "    return vowel , consonent\n"
   ]
  },
  {
   "cell_type": "code",
   "execution_count": 84,
   "metadata": {},
   "outputs": [
    {
     "data": {
      "text/plain": [
       "(['u', 'i'], ['j', 'h'])"
      ]
     },
     "execution_count": 84,
     "metadata": {},
     "output_type": "execute_result"
    }
   ],
   "source": [
    "vowel_cons('juhi')"
   ]
  },
  {
   "cell_type": "code",
   "execution_count": 70,
   "metadata": {},
   "outputs": [
    {
     "data": {
      "text/plain": [
       "([0, 2, 4, 6], [1, 3, 5, 7])"
      ]
     },
     "execution_count": 70,
     "metadata": {},
     "output_type": "execute_result"
    }
   ],
   "source": [
    "even_check([0,1,2,3,4,5,6,7])\n"
   ]
  },
  {
   "cell_type": "code",
   "execution_count": 85,
   "metadata": {},
   "outputs": [],
   "source": [
    "def even_check(a):\n",
    "    empty_list = []\n",
    "    odd_list =[]\n",
    "    for i in a:\n",
    "        if i % 2 == 0:\n",
    "            empty_list.append(i)\n",
    "        else:\n",
    "            odd_list.append(i)\n",
    "    return empty_list , odd_list\n"
   ]
  },
  {
   "cell_type": "code",
   "execution_count": 96,
   "metadata": {},
   "outputs": [
    {
     "data": {
      "text/plain": [
       "([2, 4, 6, 8, 10, 12, 14, 16, 18], [1, 3, 5, 7, 9, 11, 13, 15, 17, 19])"
      ]
     },
     "execution_count": 96,
     "metadata": {},
     "output_type": "execute_result"
    }
   ],
   "source": [
    "a = list (range(1,20))\n",
    "a\n",
    "even_check(a)\n",
    "\n",
    "\n"
   ]
  },
  {
   "cell_type": "markdown",
   "metadata": {},
   "source": [
    "\n"
   ]
  },
  {
   "cell_type": "code",
   "execution_count": 146,
   "metadata": {},
   "outputs": [],
   "source": [
    "def mykey(**a):\n",
    "    for i in a:\n",
    "        b = []\n",
    "        b.append(a[i])\n",
    "        c = list(b)\n",
    "        print(c)\n",
    "\n",
    "\n",
    "\n",
    "    "
   ]
  },
  {
   "cell_type": "code",
   "execution_count": 148,
   "metadata": {},
   "outputs": [
    {
     "name": "stdout",
     "output_type": "stream",
     "text": [
      "['vivrk']\n",
      "[12]\n",
      "[10000]\n",
      "['delhi']\n"
     ]
    }
   ],
   "source": [
    "d = mykey(name ='vivrk' ,age = 12, sal = 10000 , add = 'delhi')\n"
   ]
  },
  {
   "cell_type": "code",
   "execution_count": null,
   "metadata": {},
   "outputs": [],
   "source": []
  }
 ],
 "metadata": {
  "kernelspec": {
   "display_name": "Python 3",
   "language": "python",
   "name": "python3"
  },
  "language_info": {
   "codemirror_mode": {
    "name": "ipython",
    "version": 3
   },
   "file_extension": ".py",
   "mimetype": "text/x-python",
   "name": "python",
   "nbconvert_exporter": "python",
   "pygments_lexer": "ipython3",
   "version": "3.10.0"
  }
 },
 "nbformat": 4,
 "nbformat_minor": 2
}
